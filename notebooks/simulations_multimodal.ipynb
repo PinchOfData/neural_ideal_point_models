{
 "cells": [
  {
   "cell_type": "code",
   "execution_count": 1,
   "id": "6368688a-8870-4699-ab5c-5b292f440a90",
   "metadata": {},
   "outputs": [
    {
     "name": "stderr",
     "output_type": "stream",
     "text": [
      "100%|████████████████████████████████████████████████████████████████████████████████████████████████████████████████████████████████| 100/100 [00:00<00:00, 1419.80it/s]\n",
      "100%|██████████████████████████████████████████████████████████████████████████████████████████████████████████████████████████████| 1000/1000 [00:00<00:00, 4073.96it/s]\n",
      "100%|█████████████████████████████████████████████████████████████████████████████████████████████████████████████████████████████████| 100/100 [00:00<00:00, 222.68it/s]\n"
     ]
    }
   ],
   "source": [
    "import numpy as np\n",
    "from scipy.stats import norm\n",
    "import random\n",
    "import pandas as pd\n",
    "from tqdm import tqdm  \n",
    "\n",
    "# Define the number of politicians and the dimensionality of the ideal points\n",
    "dim_ideal_points = 1\n",
    "num_politicians = 100\n",
    "num_bills = 1000\n",
    "doc_length = 10\n",
    "vocab_size = 500\n",
    "num_survey_questions = 100\n",
    "\n",
    "# Define the parameters of the normal distribution for ideal points\n",
    "mean_ideal_points = np.zeros(dim_ideal_points)\n",
    "cov_ideal_points = np.eye(dim_ideal_points)\n",
    "\n",
    "# Generate ideal points for politicians\n",
    "ideal_points = np.random.multivariate_normal(mean_ideal_points, cov_ideal_points, num_politicians)\n",
    "\n",
    "# Function to generate speeches based on ideal points\n",
    "def generate_speeches(ideal_points, doc_length, vocab_size, progress_bar=False):\n",
    "    ideal_point_word_matrix = np.random.rand(ideal_points.shape[1], vocab_size)\n",
    "    \n",
    "    if progress_bar:\n",
    "        iterator = tqdm(range(ideal_points.shape[0]))\n",
    "    else:\n",
    "        iterator = range(ideal_points.shape[0])\n",
    "    documents = []\n",
    "    for i in iterator:\n",
    "        doc_ideal_points = ideal_points[i]\n",
    "        doc_words = []\n",
    "        word_probs = np.dot(doc_ideal_points, ideal_point_word_matrix)\n",
    "        word_probs = np.exp(word_probs) / np.sum(np.exp(word_probs))\n",
    "        for _ in range(doc_length):\n",
    "            word_index = np.random.choice(vocab_size, p=word_probs)\n",
    "            doc_words.append('word_' + str(word_index))\n",
    "        doc_words = ' '.join(doc_words)\n",
    "        documents.append(doc_words)\n",
    "    return documents\n",
    "\n",
    "# Function to generate voting behavior based on ideal points\n",
    "def generate_voting(ideal_points, num_bills, progress_bar=False):\n",
    "    votes = []\n",
    "    if progress_bar:\n",
    "        iterator = tqdm(range(num_bills))\n",
    "    else:\n",
    "        iterator = range(num_bills)\n",
    "    for bill in iterator:\n",
    "        bill_position = np.random.randn(dim_ideal_points)  # Position of the bill in the ideal point space\n",
    "        vote_probs = norm.cdf(np.dot(ideal_points, bill_position))  # Probability of voting 'yes'\n",
    "        votes.append(np.random.binomial(1, vote_probs))\n",
    "    return np.array(votes).T\n",
    "\n",
    "# Function to generate survey answers based on ideal points\n",
    "def generate_survey_answers(ideal_points, num_survey_questions, progress_bar=False):\n",
    "    survey_answers = []\n",
    "    if progress_bar:\n",
    "        iterator = tqdm(range(num_survey_questions))\n",
    "    else:\n",
    "        iterator = range(num_survey_questions)\n",
    "    for survey in iterator:\n",
    "        categories_per_survey = np.random.randint(2, 6)  # Random number of categories between 2 and 5\n",
    "        survey_position = np.random.randn(dim_ideal_points, categories_per_survey)  # Position of each category in the ideal point space\n",
    "        # Calculate the scores for each category\n",
    "        scores = np.dot(ideal_points, survey_position)\n",
    "        # Convert scores to probabilities using softmax\n",
    "        exp_scores = np.exp(scores - np.max(scores, axis=1, keepdims=True))  # Stability fix for softmax\n",
    "        answer_probs = exp_scores / np.sum(exp_scores, axis=1, keepdims=True)\n",
    "        # Select the category with the highest probability\n",
    "        answers = [np.random.choice(categories_per_survey, p=answer_probs[i]) for i in range(ideal_points.shape[0])]\n",
    "        survey_answers.append(answers)\n",
    "    return np.array(survey_answers).T\n",
    "\n",
    "# Generate speeches, voting behavior, and survey answers based on ideal points\n",
    "speeches = generate_speeches(\n",
    "    ideal_points,\n",
    "    doc_length=doc_length,\n",
    "    vocab_size=vocab_size,\n",
    "    progress_bar=True\n",
    ")\n",
    "voting = generate_voting(\n",
    "    ideal_points,\n",
    "    num_bills=num_bills,\n",
    "    progress_bar=True\n",
    ")\n",
    "survey_answers = generate_survey_answers(\n",
    "    ideal_points,\n",
    "    num_survey_questions=num_survey_questions,\n",
    "    progress_bar=True\n",
    ")"
   ]
  },
  {
   "cell_type": "code",
   "execution_count": 2,
   "id": "c51d0971-116b-4745-891c-3a0c52a7c8fd",
   "metadata": {},
   "outputs": [
    {
     "name": "stdout",
     "output_type": "stream",
     "text": [
      "                                           doc_clean  i  vote_1  vote_2  \\\n",
      "0  word_125 word_237 word_482 word_486 word_98 wo...  1     1.0     0.0   \n",
      "1  word_110 word_374 word_392 word_150 word_434 w...  2     0.0     NaN   \n",
      "2  word_314 word_379 word_281 word_126 word_65 wo...  3     0.0     1.0   \n",
      "3  word_78 word_371 word_447 word_29 word_227 wor...  4     0.0     0.0   \n",
      "4  word_186 word_309 word_146 word_238 word_303 w...  5     NaN     NaN   \n",
      "\n",
      "   vote_3  vote_4  vote_5  vote_6  vote_7  vote_8  ...  Q_94  Q_95  Q_96  \\\n",
      "0     1.0     0.0     1.0     0.0     0.0     NaN  ...     3     1     4   \n",
      "1     1.0     0.0     NaN     NaN     0.0     NaN  ...     3     1     4   \n",
      "2     0.0     1.0     NaN     NaN     NaN     1.0  ...     0     1     0   \n",
      "3     0.0     1.0     0.0     1.0     0.0     1.0  ...     0     1     3   \n",
      "4     NaN     NaN     NaN     0.0     NaN     1.0  ...     1     0     1   \n",
      "\n",
      "   Q_97  Q_98  Q_99  Q_100      cov0      cov1  t  \n",
      "0     2     3     1      0  0.098782  0.879300  1  \n",
      "1     0     0     0      1  0.420950  0.956021  1  \n",
      "2     2     3     2      0  0.077258  0.692104  1  \n",
      "3     2     3     2      1  0.113147  0.296345  1  \n",
      "4     1     3     2      0  0.121699  0.143232  1  \n",
      "\n",
      "[5 rows x 1105 columns]\n"
     ]
    }
   ],
   "source": [
    "import numpy as np\n",
    "import pandas as pd\n",
    "\n",
    "# Assuming the following variables are already defined:\n",
    "# speeches, num_politicians, num_bills, voting, survey_answers, num_survey_questions\n",
    "\n",
    "# Create initial DataFrame\n",
    "data = pd.DataFrame({'doc_clean': speeches, 'i': range(1, num_politicians + 1)})\n",
    "vote_cols = [f'vote_{i+1}' for i in range(num_bills)]\n",
    "vote_data = pd.DataFrame(voting, columns=vote_cols)\n",
    "survey_cols = [f'Q_{i+1}' for i in range(num_survey_questions)]\n",
    "survey_data = pd.DataFrame(survey_answers, columns=survey_cols)\n",
    "data = pd.concat([data, vote_data, survey_data], axis=1)\n",
    "\n",
    "data['cov0'] = np.random.rand(num_politicians)\n",
    "data['cov1'] = np.random.rand(num_politicians)\n",
    "data['t'] = 1\n",
    "\n",
    "# Ensure vote columns are of type float\n",
    "data[vote_cols] = data[vote_cols].astype(float)\n",
    "\n",
    "# Replace X% of the vote column cells with NaN\n",
    "num_cells = data[vote_cols].size\n",
    "num_nan = int(num_cells * 0.3)\n",
    "\n",
    "# Get the flattened array of vote data\n",
    "flat_vote_data = data[vote_cols].values.flatten()\n",
    "\n",
    "# Randomly choose indices to replace with NaN\n",
    "nan_indices = np.random.choice(num_cells, num_nan, replace=False)\n",
    "\n",
    "# Replace the selected indices with NaN\n",
    "flat_vote_data[nan_indices] = np.nan\n",
    "\n",
    "# Reshape the flat array back to the original DataFrame\n",
    "data[vote_cols] = flat_vote_data.reshape(data[vote_cols].shape)\n",
    "\n",
    "#data = data.fillna(0)\n",
    "\n",
    "# Print the DataFrame\n",
    "print(data.head())"
   ]
  },
  {
   "cell_type": "code",
   "execution_count": 3,
   "id": "cf64e45e-99dc-4680-a947-033acb9c8c5f",
   "metadata": {},
   "outputs": [],
   "source": [
    "# Create a DataFrame with speeches and voting behavior\n",
    "#data = pd.DataFrame({'doc_clean': speeches, 'i': range(1, num_politicians + 1)})\n",
    "#vote_cols = [f'vote_{i+1}' for i in range(num_bills)]\n",
    "#vote_data = pd.DataFrame(voting, columns=vote_cols)\n",
    "#survey_cols = [f'Q_{i+1}' for i in range(num_survey_questions)]\n",
    "#survey_data = pd.DataFrame(survey_answers, columns=survey_cols)\n",
    "#data = pd.concat([data, vote_data, survey_data], axis=1)\n",
    "\n",
    "#data['cov0'] = np.random.rand(num_politicians)\n",
    "#data['cov1'] = np.random.rand(num_politicians)\n",
    "#data['t'] = 1\n",
    "\n",
    "# Print the DataFrame\n",
    "#print(data.head())"
   ]
  },
  {
   "cell_type": "code",
   "execution_count": 4,
   "id": "ff1b10bd",
   "metadata": {},
   "outputs": [
    {
     "name": "stderr",
     "output_type": "stream",
     "text": [
      "/home/germain/Documents/neural_ideal_points/neural_ideal_point_models/venv/lib/python3.10/site-packages/tqdm/auto.py:21: TqdmWarning: IProgress not found. Please update jupyter and ipywidgets. See https://ipywidgets.readthedocs.io/en/stable/user_install.html\n",
      "  from .autonotebook import tqdm as notebook_tqdm\n"
     ]
    }
   ],
   "source": [
    "import sys\n",
    "sys.path.append('../IdealPointNN/')\n",
    "from dataset import IdealPointNNDataset\n",
    "from ideal_point_model import IdealPointNN\n",
    "\n",
    "train_data = IdealPointNNDataset(\n",
    "    data,\n",
    "    ideology = \"~ cov0 + cov1\"\n",
    ")\n",
    "#train_data.add_modality(\n",
    "#    modality = 'text',\n",
    "#    df = data,\n",
    "#)\n",
    "train_data.add_modality(\n",
    "    modality = 'vote',\n",
    "    df = data,\n",
    "    columns = ['vote_{}'.format(i+1) for i in range(num_bills)]\n",
    ")\n",
    "#train_data.add_modality(\n",
    "#    modality = 'discrete_choice',\n",
    "#    df = data,\n",
    "#    columns = ['Q_{}'.format(i+1) for i in range(num_survey_questions)]\n",
    "#)"
   ]
  },
  {
   "cell_type": "code",
   "execution_count": 6,
   "id": "f6125b2e-5c2d-41e2-88c1-eb4a9f83a029",
   "metadata": {},
   "outputs": [
    {
     "data": {
      "text/plain": [
       "['vote']"
      ]
     },
     "execution_count": 6,
     "metadata": {},
     "output_type": "execute_result"
    }
   ],
   "source": [
    "train_data.modalities"
   ]
  },
  {
   "cell_type": "code",
   "execution_count": 7,
   "id": "8c86216b-1c0d-439f-a3da-81f0ee7609bd",
   "metadata": {},
   "outputs": [],
   "source": [
    "train_datasets = [train_data]"
   ]
  },
  {
   "cell_type": "code",
   "execution_count": 8,
   "id": "f9412b00-c160-419c-b6b3-2358485b5649",
   "metadata": {},
   "outputs": [
    {
     "name": "stdout",
     "output_type": "stream",
     "text": [
      "\n",
      "Epoch   1\tMean Training Loss:2.0613492\n",
      "\n",
      "\n",
      "Epoch   2\tMean Training Loss:1.3441508\n",
      "\n",
      "\n",
      "Epoch   3\tMean Training Loss:0.8642231\n",
      "\n",
      "\n",
      "Epoch   4\tMean Training Loss:0.8922503\n",
      "\n",
      "\n",
      "Epoch   5\tMean Training Loss:0.8290001\n",
      "\n",
      "\n",
      "Epoch   6\tMean Training Loss:0.9499447\n",
      "\n",
      "\n",
      "Epoch   7\tMean Training Loss:0.8395055\n",
      "\n",
      "\n",
      "Epoch   8\tMean Training Loss:0.8137993\n",
      "\n",
      "\n",
      "Epoch   9\tMean Training Loss:0.7580175\n",
      "\n",
      "\n",
      "Epoch  10\tMean Training Loss:0.7385380\n",
      "\n",
      "\n",
      "Epoch  11\tMean Training Loss:0.7478328\n",
      "\n",
      "\n",
      "Epoch  12\tMean Training Loss:0.6417400\n",
      "\n",
      "\n",
      "Epoch  13\tMean Training Loss:0.6441723\n",
      "\n",
      "\n",
      "Epoch  14\tMean Training Loss:0.6179451\n",
      "\n",
      "\n",
      "Epoch  15\tMean Training Loss:0.6634397\n",
      "\n",
      "\n",
      "Epoch  16\tMean Training Loss:0.6823906\n",
      "\n",
      "\n",
      "Epoch  17\tMean Training Loss:0.6229247\n",
      "\n",
      "\n",
      "Early stopping at Epoch 17. Reverting to Epoch 14\n"
     ]
    }
   ],
   "source": [
    "m = IdealPointNN(\n",
    "    train_datasets, \n",
    "    n_dims=dim_ideal_points,\n",
    "    update_prior=False,\n",
    "    log_every_n_epochs = 1,\n",
    "    dropout = 0,\n",
    "    w_prior = 1,\n",
    "    batch_size = 500,\n",
    "    learning_rate=1e-3,\n",
    "    patience=3, \n",
    "    seed = 10\n",
    ")"
   ]
  },
  {
   "cell_type": "code",
   "execution_count": 9,
   "id": "609c112b-8d7a-4cd5-95c7-2e4f7723b99a",
   "metadata": {},
   "outputs": [
    {
     "data": {
      "image/png": "[encoded data removed]",
      "text/plain": [
       "<Figure size 640x480 with 1 Axes>"
      ]
     },
     "metadata": {},
     "output_type": "display_data"
    }
   ],
   "source": [
    "import numpy as np\n",
    "import matplotlib.pyplot as plt\n",
    "\n",
    "doc_dims = m.get_ideal_points(train_datasets)\n",
    "\n",
    "x = doc_dims\n",
    "y = ideal_points\n",
    "\n",
    "plt.scatter(x, y, label='Data points', s=1)\n",
    "coefficients = np.polyfit(x.flatten(), y.flatten(), 1)\n",
    "fit = np.poly1d(coefficients)\n",
    "plt.plot(x, fit(x), color='red', label='Linear Fit')\n",
    "plt.xlabel('Estimates')\n",
    "plt.ylabel('True Value')\n",
    "plt.title('True vs. Estimated Ideal Points')\n",
    "plt.legend()\n",
    "plt.show()"
   ]
  },
  {
   "cell_type": "code",
   "execution_count": 14,
   "id": "3dd48db9-6c0d-4d1b-bc16-d2f1b7184e2d",
   "metadata": {},
   "outputs": [
    {
     "name": "stdout",
     "output_type": "stream",
     "text": [
      "[[ 1.         -0.93923709]\n",
      " [-0.93923709  1.        ]]\n"
     ]
    }
   ],
   "source": [
    "print(np.corrcoef(x[:,0],y[:,0]))"
   ]
  },
  {
   "cell_type": "code",
   "execution_count": 10,
   "id": "f9cd3d71-9628-4ca1-88cc-fa616db67b7f",
   "metadata": {},
   "outputs": [
    {
     "ename": "KeyError",
     "evalue": "'text'",
     "output_type": "error",
     "traceback": [
      "\u001b[0;31m---------------------------------------------------------------------------\u001b[0m",
      "\u001b[0;31mKeyError\u001b[0m                                  Traceback (most recent call last)",
      "Cell \u001b[0;32mIn[10], line 4\u001b[0m\n\u001b[1;32m      1\u001b[0m \u001b[38;5;28;01mimport\u001b[39;00m \u001b[38;5;21;01mnumpy\u001b[39;00m \u001b[38;5;28;01mas\u001b[39;00m \u001b[38;5;21;01mnp\u001b[39;00m\n\u001b[1;32m      2\u001b[0m \u001b[38;5;28;01mimport\u001b[39;00m \u001b[38;5;21;01mmatplotlib\u001b[39;00m\u001b[38;5;21;01m.\u001b[39;00m\u001b[38;5;21;01mpyplot\u001b[39;00m \u001b[38;5;28;01mas\u001b[39;00m \u001b[38;5;21;01mplt\u001b[39;00m\n\u001b[0;32m----> 4\u001b[0m x1 \u001b[38;5;241m=\u001b[39m \u001b[43mm\u001b[49m\u001b[38;5;241;43m.\u001b[39;49m\u001b[43mget_ideal_points\u001b[49m\u001b[43m(\u001b[49m\u001b[43mtrain_datasets\u001b[49m\u001b[43m,\u001b[49m\u001b[43m \u001b[49m\u001b[43mmodality\u001b[49m\u001b[38;5;241;43m=\u001b[39;49m\u001b[38;5;124;43m'\u001b[39;49m\u001b[38;5;124;43mtext\u001b[39;49m\u001b[38;5;124;43m'\u001b[39;49m\u001b[43m)\u001b[49m\n\u001b[1;32m      5\u001b[0m x2 \u001b[38;5;241m=\u001b[39m m\u001b[38;5;241m.\u001b[39mget_ideal_points(train_datasets, modality\u001b[38;5;241m=\u001b[39m\u001b[38;5;124m'\u001b[39m\u001b[38;5;124mvote\u001b[39m\u001b[38;5;124m'\u001b[39m)\n\u001b[1;32m      6\u001b[0m x3 \u001b[38;5;241m=\u001b[39m m\u001b[38;5;241m.\u001b[39mget_ideal_points(train_datasets, modality\u001b[38;5;241m=\u001b[39m\u001b[38;5;124m'\u001b[39m\u001b[38;5;124mdiscrete_choice\u001b[39m\u001b[38;5;124m'\u001b[39m)\n",
      "File \u001b[0;32m~/Documents/neural_ideal_points/neural_ideal_point_models/notebooks/../IdealPointNN/ideal_point_model.py:730\u001b[0m, in \u001b[0;36mIdealPointNN.get_ideal_points\u001b[0;34m(self, datasets, modality)\u001b[0m\n\u001b[1;32m    727\u001b[0m     modality \u001b[38;5;241m=\u001b[39m \u001b[38;5;28mself\u001b[39m\u001b[38;5;241m.\u001b[39mref_modality\n\u001b[1;32m    729\u001b[0m \u001b[38;5;28;01mfor\u001b[39;00m data \u001b[38;5;129;01min\u001b[39;00m data_loader:\n\u001b[0;32m--> 730\u001b[0m     d \u001b[38;5;241m=\u001b[39m \u001b[43mdata\u001b[49m\u001b[43m[\u001b[49m\u001b[43mmodality\u001b[49m\u001b[43m]\u001b[49m\n\u001b[1;32m    732\u001b[0m     \u001b[38;5;28;01mif\u001b[39;00m modality \u001b[38;5;129;01min\u001b[39;00m [\u001b[38;5;124m'\u001b[39m\u001b[38;5;124mtext\u001b[39m\u001b[38;5;124m'\u001b[39m, \u001b[38;5;124m'\u001b[39m\u001b[38;5;124mvote\u001b[39m\u001b[38;5;124m'\u001b[39m]:\n\u001b[1;32m    733\u001b[0m         \u001b[38;5;28;01mfor\u001b[39;00m key, value \u001b[38;5;129;01min\u001b[39;00m d\u001b[38;5;241m.\u001b[39mitems():\n",
      "\u001b[0;31mKeyError\u001b[0m: 'text'"
     ]
    }
   ],
   "source": [
    "import numpy as np\n",
    "import matplotlib.pyplot as plt\n",
    "\n",
    "x1 = m.get_ideal_points(train_datasets, modality='text')\n",
    "x2 = m.get_ideal_points(train_datasets, modality='vote')\n",
    "x3 = m.get_ideal_points(train_datasets, modality='discrete_choice')\n",
    "\n",
    "# Plot the first set\n",
    "plt.scatter(x1, y, label='Text', s=1, color='blue')\n",
    "coefficients_1 = np.polyfit(x1.flatten(), y.flatten(), 1)\n",
    "fit_1 = np.poly1d(coefficients_1)\n",
    "plt.plot(x1, fit_1(x1), color='blue', linestyle='--', label='Linear Fit Text')\n",
    "\n",
    "# Plot the second set\n",
    "plt.scatter(x2, y, label='Vote', s=1, color='green')\n",
    "coefficients_2 = np.polyfit(x2.flatten(), y.flatten(), 1)\n",
    "fit_2 = np.poly1d(coefficients_2)\n",
    "plt.plot(x2, fit_2(x2), color='green', linestyle='--', label='Linear Fit Vote')\n",
    "\n",
    "# Plot the third set\n",
    "plt.scatter(x3, y, label='Discrete Choice', s=1, color='red')\n",
    "coefficients_3 = np.polyfit(x3.flatten(), y.flatten(), 1)\n",
    "fit_3 = np.poly1d(coefficients_3)\n",
    "plt.plot(x3, fit_3(x3), color='red', linestyle='--', label='Linear Fit Choice')\n",
    "\n",
    "plt.xlabel('Estimates')\n",
    "plt.ylabel('True Value')\n",
    "plt.title('True vs. Estimated Ideal Points')\n",
    "plt.legend()\n",
    "plt.show()"
   ]
  },
  {
   "cell_type": "code",
   "execution_count": null,
   "id": "0b5d5888-53fe-4a24-b1da-b76dc2885aa5",
   "metadata": {},
   "outputs": [],
   "source": [
    "print(np.corrcoef(x1[:,0],y[:,0]))\n",
    "print(np.corrcoef(x2[:,0],y[:,0]))\n",
    "print(np.corrcoef(x3[:,0],y[:,0]))"
   ]
  },
  {
   "cell_type": "code",
   "execution_count": null,
   "id": "41edf9d0-145b-48bd-990a-184b38b68eeb",
   "metadata": {},
   "outputs": [],
   "source": [
    "print('Estimated lambda: {}'.format(m.prior.lambda_))\n",
    "print('Estimated sigma: {}'.format(m.prior.sigma))"
   ]
  }
 ],
 "metadata": {
  "kernelspec": {
   "display_name": "Python 3 (ipykernel)",
   "language": "python",
   "name": "python3"
  },
  "language_info": {
   "codemirror_mode": {
    "name": "ipython",
    "version": 3
   },
   "file_extension": ".py",
   "mimetype": "text/x-python",
   "name": "python",
   "nbconvert_exporter": "python",
   "pygments_lexer": "ipython3",
   "version": "3.10.12"
  }
 },
 "nbformat": 4,
 "nbformat_minor": 5
}
