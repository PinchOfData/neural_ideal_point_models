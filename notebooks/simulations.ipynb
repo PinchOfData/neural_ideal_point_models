{
 "cells": [
  {
   "cell_type": "code",
   "execution_count": 1,
   "id": "6368688a-8870-4699-ab5c-5b292f440a90",
   "metadata": {},
   "outputs": [
    {
     "name": "stderr",
     "output_type": "stream",
     "text": [
      "100%|█████████████████████████████████████████████████████████████████████████████████████████████████████████████████████| 1000/1000 [00:11<00:00, 87.26it/s]\n",
      "100%|███████████████████████████████████████████████████████████████████████████████████████████████████████████████████| 1000/1000 [00:00<00:00, 3006.95it/s]\n",
      "100%|███████████████████████████████████████████████████████████████████████████████████████████████████████████████████████| 100/100 [00:03<00:00, 33.28it/s]\n"
     ]
    }
   ],
   "source": [
    "import numpy as np\n",
    "from scipy.stats import norm\n",
    "import random\n",
    "import pandas as pd\n",
    "from tqdm import tqdm  \n",
    "\n",
    "# Define the number of politicians and the dimensionality of the ideal points\n",
    "dim_ideal_points = 1\n",
    "num_politicians = 1000\n",
    "num_bills = 1000\n",
    "doc_length = 300\n",
    "vocab_size = 500\n",
    "num_survey_questions = 100\n",
    "\n",
    "# Define the parameters of the normal distribution for ideal points\n",
    "mean_ideal_points = np.zeros(dim_ideal_points)\n",
    "cov_ideal_points = np.eye(dim_ideal_points)\n",
    "\n",
    "# Generate ideal points for politicians\n",
    "ideal_points = np.random.multivariate_normal(mean_ideal_points, cov_ideal_points, num_politicians)\n",
    "\n",
    "# Function to generate speeches based on ideal points\n",
    "def generate_speeches(ideal_points, doc_length, vocab_size, progress_bar=False):\n",
    "    ideal_point_word_matrix = np.random.rand(ideal_points.shape[1], vocab_size)\n",
    "    \n",
    "    if progress_bar:\n",
    "        iterator = tqdm(range(ideal_points.shape[0]))\n",
    "    else:\n",
    "        iterator = range(ideal_points.shape[0])\n",
    "    documents = []\n",
    "    for i in iterator:\n",
    "        doc_ideal_points = ideal_points[i]\n",
    "        doc_words = []\n",
    "        word_probs = np.dot(doc_ideal_points, ideal_point_word_matrix)\n",
    "        word_probs = np.exp(word_probs) / np.sum(np.exp(word_probs))\n",
    "        for _ in range(doc_length):\n",
    "            word_index = np.random.choice(vocab_size, p=word_probs)\n",
    "            doc_words.append('word_' + str(word_index))\n",
    "        doc_words = ' '.join(doc_words)\n",
    "        documents.append(doc_words)\n",
    "    return documents\n",
    "\n",
    "# Function to generate voting behavior based on ideal points\n",
    "def generate_voting(ideal_points, num_bills, progress_bar=False):\n",
    "    votes = []\n",
    "    if progress_bar:\n",
    "        iterator = tqdm(range(num_bills))\n",
    "    else:\n",
    "        iterator = range(num_bills)\n",
    "    for bill in iterator:\n",
    "        bill_position = np.random.randn(dim_ideal_points)  # Position of the bill in the ideal point space\n",
    "        vote_probs = norm.cdf(np.dot(ideal_points, bill_position))  # Probability of voting 'yes'\n",
    "        votes.append(np.random.binomial(1, vote_probs))\n",
    "    return np.array(votes).T\n",
    "\n",
    "# Function to generate survey answers based on ideal points\n",
    "def generate_survey_answers(ideal_points, num_survey_questions, progress_bar=False):\n",
    "    survey_answers = []\n",
    "    if progress_bar:\n",
    "        iterator = tqdm(range(num_survey_questions))\n",
    "    else:\n",
    "        iterator = range(num_survey_questions)\n",
    "    for survey in iterator:\n",
    "        categories_per_survey = np.random.randint(2, 6)  # Random number of categories between 2 and 5\n",
    "        survey_position = np.random.randn(dim_ideal_points, categories_per_survey)  # Position of each category in the ideal point space\n",
    "        # Calculate the scores for each category\n",
    "        scores = np.dot(ideal_points, survey_position)\n",
    "        # Convert scores to probabilities using softmax\n",
    "        exp_scores = np.exp(scores - np.max(scores, axis=1, keepdims=True))  # Stability fix for softmax\n",
    "        answer_probs = exp_scores / np.sum(exp_scores, axis=1, keepdims=True)\n",
    "        # Select the category with the highest probability\n",
    "        answers = [np.random.choice(categories_per_survey, p=answer_probs[i]) for i in range(ideal_points.shape[0])]\n",
    "        survey_answers.append(answers)\n",
    "    return np.array(survey_answers).T\n",
    "\n",
    "# Generate speeches, voting behavior, and survey answers based on ideal points\n",
    "speeches = generate_speeches(\n",
    "    ideal_points,\n",
    "    doc_length=doc_length,\n",
    "    vocab_size=vocab_size,\n",
    "    progress_bar=True\n",
    ")\n",
    "voting = generate_voting(\n",
    "    ideal_points,\n",
    "    num_bills=num_bills,\n",
    "    progress_bar=True\n",
    ")\n",
    "survey_answers = generate_survey_answers(\n",
    "    ideal_points,\n",
    "    num_survey_questions=num_survey_questions,\n",
    "    progress_bar=True\n",
    ")"
   ]
  },
  {
   "cell_type": "code",
   "execution_count": 2,
   "id": "c51d0971-116b-4745-891c-3a0c52a7c8fd",
   "metadata": {},
   "outputs": [
    {
     "name": "stdout",
     "output_type": "stream",
     "text": [
      "                                           doc_clean  i  vote_1  vote_2  \\\n",
      "0  word_338 word_403 word_319 word_218 word_412 w...  1     0.0     0.0   \n",
      "1  word_160 word_220 word_459 word_286 word_45 wo...  2     NaN     NaN   \n",
      "2  word_361 word_204 word_303 word_460 word_388 w...  3     1.0     0.0   \n",
      "3  word_20 word_231 word_212 word_72 word_132 wor...  4     1.0     1.0   \n",
      "4  word_378 word_165 word_176 word_251 word_220 w...  5     0.0     1.0   \n",
      "\n",
      "   vote_3  vote_4  vote_5  vote_6  vote_7  vote_8  ...  Q_94  Q_95  Q_96  \\\n",
      "0     0.0     1.0     0.0     0.0     0.0     1.0  ...     0     2     0   \n",
      "1     NaN     NaN     1.0     NaN     1.0     1.0  ...     4     0     3   \n",
      "2     0.0     NaN     0.0     NaN     1.0     0.0  ...     0     3     1   \n",
      "3     1.0     0.0     0.0     NaN     1.0     0.0  ...     1     1     1   \n",
      "4     1.0     1.0     NaN     1.0     1.0     0.0  ...     0     0     0   \n",
      "\n",
      "   Q_97  Q_98  Q_99  Q_100      cov0      cov1  t  \n",
      "0     3     2     3      0  0.161128  0.506649  1  \n",
      "1     2     1     2      1  0.327910  0.895299  1  \n",
      "2     4     3     2      1  0.919978  0.693514  1  \n",
      "3     2     3     0      0  0.047310  0.358072  1  \n",
      "4     1     2     1      0  0.383019  0.636220  1  \n",
      "\n",
      "[5 rows x 1105 columns]\n"
     ]
    }
   ],
   "source": [
    "import numpy as np\n",
    "import pandas as pd\n",
    "\n",
    "# Assuming the following variables are already defined:\n",
    "# speeches, num_politicians, num_bills, voting, survey_answers, num_survey_questions\n",
    "\n",
    "# Create initial DataFrame\n",
    "data = pd.DataFrame({'doc_clean': speeches, 'i': range(1, num_politicians + 1)})\n",
    "vote_cols = [f'vote_{i+1}' for i in range(num_bills)]\n",
    "vote_data = pd.DataFrame(voting, columns=vote_cols)\n",
    "survey_cols = [f'Q_{i+1}' for i in range(num_survey_questions)]\n",
    "survey_data = pd.DataFrame(survey_answers, columns=survey_cols)\n",
    "data = pd.concat([data, vote_data, survey_data], axis=1)\n",
    "\n",
    "data['cov0'] = np.random.rand(num_politicians)\n",
    "data['cov1'] = np.random.rand(num_politicians)\n",
    "data['t'] = 1\n",
    "\n",
    "# Ensure vote columns are of type float\n",
    "data[vote_cols] = data[vote_cols].astype(float)\n",
    "\n",
    "# Replace X% of the vote column cells with NaN\n",
    "num_cells = data[vote_cols].size\n",
    "num_nan = int(num_cells * 0.3)\n",
    "\n",
    "# Get the flattened array of vote data\n",
    "flat_vote_data = data[vote_cols].values.flatten()\n",
    "\n",
    "# Randomly choose indices to replace with NaN\n",
    "nan_indices = np.random.choice(num_cells, num_nan, replace=False)\n",
    "\n",
    "# Replace the selected indices with NaN\n",
    "flat_vote_data[nan_indices] = np.nan\n",
    "\n",
    "# Reshape the flat array back to the original DataFrame\n",
    "data[vote_cols] = flat_vote_data.reshape(data[vote_cols].shape)\n",
    "\n",
    "#data = data.fillna(0)\n",
    "\n",
    "# Print the DataFrame\n",
    "print(data.head())"
   ]
  },
  {
   "cell_type": "code",
   "execution_count": 3,
   "id": "cf64e45e-99dc-4680-a947-033acb9c8c5f",
   "metadata": {},
   "outputs": [],
   "source": [
    "# Create a DataFrame with speeches and voting behavior\n",
    "#data = pd.DataFrame({'doc_clean': speeches, 'i': range(1, num_politicians + 1)})\n",
    "#vote_cols = [f'vote_{i+1}' for i in range(num_bills)]\n",
    "#vote_data = pd.DataFrame(voting, columns=vote_cols)\n",
    "#survey_cols = [f'Q_{i+1}' for i in range(num_survey_questions)]\n",
    "#survey_data = pd.DataFrame(survey_answers, columns=survey_cols)\n",
    "#data = pd.concat([data, vote_data, survey_data], axis=1)\n",
    "\n",
    "#data['cov0'] = np.random.rand(num_politicians)\n",
    "#data['cov1'] = np.random.rand(num_politicians)\n",
    "#data['t'] = 1\n",
    "\n",
    "# Print the DataFrame\n",
    "#print(data.head())"
   ]
  },
  {
   "cell_type": "code",
   "execution_count": 4,
   "id": "ff1b10bd",
   "metadata": {},
   "outputs": [
    {
     "name": "stderr",
     "output_type": "stream",
     "text": [
      "/home/germain/Documents/neural_ideal_points/neural_ideal_point_models/venv/lib/python3.10/site-packages/tqdm/auto.py:21: TqdmWarning: IProgress not found. Please update jupyter and ipywidgets. See https://ipywidgets.readthedocs.io/en/stable/user_install.html\n",
      "  from .autonotebook import tqdm as notebook_tqdm\n"
     ]
    },
    {
     "name": "stdout",
     "output_type": "stream",
     "text": [
      "['text']\n",
      "Epoch   1\tMean Loss: 1865.2516747\n",
      "\n",
      "Epoch   2\tMean Loss: 1856.3316765\n",
      "\n",
      "Epoch   3\tMean Loss: 1855.7613602\n",
      "\n",
      "Epoch   4\tMean Loss: 1855.6997070\n",
      "\n",
      "Epoch   5\tMean Loss: 1855.7059822\n",
      "\n",
      "\n",
      "Early stopping at Epoch 5. Reverting to Epoch 4\n"
     ]
    }
   ],
   "source": [
    "import sys\n",
    "sys.path.append('../IdealPointNN/')\n",
    "from dataset import IdealPointNNDataset\n",
    "from ideal_point_model import IdealPointNN\n",
    "\n",
    "train_data = IdealPointNNDataset(\n",
    "    data,\n",
    "    ideology = \"~ cov0 + cov1\"\n",
    ")\n",
    "train_data.add_modality(\n",
    "    modality = 'text',\n",
    "    df = data,\n",
    ")\n",
    "\n",
    "train_datasets = [train_data]\n",
    "\n",
    "print(train_data.modalities)\n",
    "\n",
    "m = IdealPointNN(\n",
    "    train_datasets, \n",
    "    n_dims=dim_ideal_points,\n",
    "    update_prior=False,\n",
    "    log_every_n_epochs = 1,\n",
    "    dropout = 0,\n",
    "    w_prior = 10,\n",
    "    batch_size = 32,\n",
    "    learning_rate=1e-3,\n",
    "    patience=1, \n",
    "    seed = 42,\n",
    "    num_epochs=30\n",
    ")"
   ]
  },
  {
   "cell_type": "code",
   "execution_count": 5,
   "id": "609c112b-8d7a-4cd5-95c7-2e4f7723b99a",
   "metadata": {},
   "outputs": [
    {
     "data": {
      "image/png": "[encoded data removed]",
      "text/plain": [
       "<Figure size 640x480 with 1 Axes>"
      ]
     },
     "metadata": {},
     "output_type": "display_data"
    }
   ],
   "source": [
    "import numpy as np\n",
    "import matplotlib.pyplot as plt\n",
    "\n",
    "# Assuming m.get_ideal_points and ideal_points are defined\n",
    "doc_dims = m.get_ideal_points(train_datasets)\n",
    "\n",
    "x = doc_dims\n",
    "y = -ideal_points\n",
    "\n",
    "# Scatter plot of the data\n",
    "plt.scatter(x, y, label='Politicians', s=1)\n",
    "\n",
    "# Linear fit\n",
    "coefficients = np.polyfit(x.flatten(), y.flatten(), 1)\n",
    "fit = np.poly1d(coefficients)\n",
    "plt.plot(x, fit(x), color='red', label='Linear Fit')\n",
    "\n",
    "# Calculate correlation coefficient\n",
    "correlation_coefficient = np.corrcoef(x.flatten(), y.flatten())[0, 1]\n",
    "\n",
    "# Plot labels and title\n",
    "plt.xlabel('Estimates')\n",
    "plt.ylabel('True Value')\n",
    "#plt.title('True vs. Estimated Ideal Points')\n",
    "plt.legend()\n",
    "\n",
    "# Display correlation coefficient on plot\n",
    "plt.text(0.25, 0.75, f'Correlation: {correlation_coefficient:.2f}', \n",
    "         transform=plt.gca().transAxes, fontsize=10, verticalalignment='top')\n",
    "\n",
    "plt.tight_layout()\n",
    "plt.savefig('basic_simulation.pdf')\n",
    "plt.show()\n"
   ]
  },
  {
   "cell_type": "code",
   "execution_count": 6,
   "id": "3dd48db9-6c0d-4d1b-bc16-d2f1b7184e2d",
   "metadata": {},
   "outputs": [
    {
     "name": "stdout",
     "output_type": "stream",
     "text": [
      "[[1.         0.96953145]\n",
      " [0.96953145 1.        ]]\n"
     ]
    }
   ],
   "source": [
    "print(np.corrcoef(x[:,0],y[:,0]))"
   ]
  },
  {
   "cell_type": "code",
   "execution_count": 7,
   "id": "9779a1bb-541b-43b7-81a2-f58cd64e9c54",
   "metadata": {},
   "outputs": [
    {
     "name": "stdout",
     "output_type": "stream",
     "text": [
      "['text', 'vote']\n",
      "Epoch   1\tMean Loss: 1865.4010811\n",
      "\n",
      "Epoch   2\tMean Loss: 1855.3477898\n",
      "\n",
      "Epoch   3\tMean Loss: 1854.0745277\n",
      "\n",
      "Epoch   4\tMean Loss: 1854.0240555\n",
      "\n",
      "Epoch   5\tMean Loss: 1853.6173172\n",
      "\n",
      "Epoch   6\tMean Loss: 1853.6534805\n",
      "\n",
      "Epoch   7\tMean Loss: 1853.4386749\n",
      "\n",
      "Epoch   8\tMean Loss: 1853.6418877\n",
      "\n",
      "Epoch   9\tMean Loss: 1853.4998779\n",
      "\n",
      "Epoch  10\tMean Loss: 1853.0249519\n",
      "\n",
      "Epoch  11\tMean Loss: 1853.4142303\n",
      "\n",
      "Epoch  12\tMean Loss: 1853.0951042\n",
      "\n",
      "Epoch  13\tMean Loss: 1853.1097450\n",
      "\n",
      "\n",
      "Early stopping at Epoch 13. Reverting to Epoch 10\n"
     ]
    }
   ],
   "source": [
    "import sys\n",
    "sys.path.append('../IdealPointNN/')\n",
    "from dataset import IdealPointNNDataset\n",
    "from ideal_point_model import IdealPointNN\n",
    "\n",
    "train_data = IdealPointNNDataset(\n",
    "    data,\n",
    "    ideology = \"~ cov0 + cov1\"\n",
    ")\n",
    "train_data.add_modality(\n",
    "    modality = 'text',\n",
    "    df = data,\n",
    ")\n",
    "train_data.add_modality(\n",
    "    modality = 'vote',\n",
    "    df = data,\n",
    "    columns = ['vote_{}'.format(i+1) for i in range(num_bills)]\n",
    ")\n",
    "\n",
    "train_datasets = [train_data]\n",
    "\n",
    "print(train_data.modalities)\n",
    "\n",
    "m = IdealPointNN(\n",
    "    train_datasets, \n",
    "    n_dims=dim_ideal_points,\n",
    "    update_prior=False,\n",
    "    log_every_n_epochs = 1,\n",
    "    dropout = 0,\n",
    "    w_prior = 1,\n",
    "    batch_size = 32,\n",
    "    learning_rate=1e-3,\n",
    "    patience= 3, \n",
    "    seed = 10,\n",
    "    num_epochs=30\n",
    ")"
   ]
  },
  {
   "cell_type": "code",
   "execution_count": 8,
   "id": "48177078-417f-4c2f-bd16-2499ba738fe6",
   "metadata": {},
   "outputs": [
    {
     "data": {
      "image/png": "[encoded data removed]",
      "text/plain": [
       "<Figure size 640x480 with 1 Axes>"
      ]
     },
     "metadata": {},
     "output_type": "display_data"
    }
   ],
   "source": [
    "import numpy as np\n",
    "import matplotlib.pyplot as plt\n",
    "\n",
    "x1 = -m.get_ideal_points(train_datasets)\n",
    "\n",
    "# Scatter plot for the first set\n",
    "plt.scatter(x1, y, label='Politicians', s=1)\n",
    "\n",
    "# Linear fit for the first set\n",
    "coefficients_1 = np.polyfit(x1.flatten(), y.flatten(), 1)\n",
    "fit_1 = np.poly1d(coefficients_1)\n",
    "plt.plot(x1, fit_1(x1), color='red', linestyle='--', label='Linear Fit')\n",
    "\n",
    "# Calculate correlation coefficient for the linear fit\n",
    "correlation_coefficient_1 = np.corrcoef(x1.flatten(), y.flatten())[0, 1]\n",
    "\n",
    "# Plot labels and title\n",
    "plt.xlabel('Estimates')\n",
    "plt.ylabel('True Value')\n",
    "#plt.title('True vs. Estimated Ideal Points')\n",
    "plt.legend()\n",
    "\n",
    "# Display correlation coefficient on plot\n",
    "plt.text(0.25, 0.75, f'Correlation: {correlation_coefficient_1:.2f}', \n",
    "         transform=plt.gca().transAxes, fontsize=10, verticalalignment='top')\n",
    "\n",
    "plt.tight_layout()\n",
    "plt.savefig('multimodal_simulation.pdf')\n",
    "plt.show()"
   ]
  },
  {
   "cell_type": "code",
   "execution_count": 9,
   "id": "0b5d5888-53fe-4a24-b1da-b76dc2885aa5",
   "metadata": {},
   "outputs": [
    {
     "name": "stdout",
     "output_type": "stream",
     "text": [
      "[[1.         0.97609373]\n",
      " [0.97609373 1.        ]]\n"
     ]
    }
   ],
   "source": [
    "print(np.corrcoef(x1[:,0],y[:,0]))"
   ]
  }
 ],
 "metadata": {
  "kernelspec": {
   "display_name": "Python 3 (ipykernel)",
   "language": "python",
   "name": "python3"
  },
  "language_info": {
   "codemirror_mode": {
    "name": "ipython",
    "version": 3
   },
   "file_extension": ".py",
   "mimetype": "text/x-python",
   "name": "python",
   "nbconvert_exporter": "python",
   "pygments_lexer": "ipython3",
   "version": "3.10.12"
  }
 },
 "nbformat": 4,
 "nbformat_minor": 5
}
